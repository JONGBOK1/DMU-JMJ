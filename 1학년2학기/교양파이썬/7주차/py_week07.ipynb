{
 "cells": [
  {
   "cell_type": "code",
   "execution_count": 1,
   "metadata": {},
   "outputs": [
    {
     "name": "stdout",
     "output_type": "stream",
     "text": [
      "원의 넓이는 314.00이고 원의 둘레는 62.80이다.\n"
     ]
    }
   ],
   "source": [
    "def calc_circle(r):     # 반지름이 r인 원의 넓이와 둘레를 동시에 반환하는 함수\n",
    "    area = 3.14 * r * r\n",
    "    circum = 2 * 3.14 * r\n",
    "    return area, circum # 튜플을 반환\n",
    "\n",
    "radius = float(input('원의 반지름을 입력하시오: '))\n",
    "(a, c) = calc_circle(radius)\n",
    "print('원의 넓이는{0:7.2f}이고 원의 둘레는{1:6.2f}이다.'.format(a, c))"
   ]
  },
  {
   "cell_type": "code",
   "execution_count": 2,
   "metadata": {},
   "outputs": [
    {
     "name": "stdout",
     "output_type": "stream",
     "text": [
      "a = 200 b =  200\n"
     ]
    }
   ],
   "source": [
    "a, b = 100, 200\n",
    "a = b\n",
    "b = a\n",
    "print('a =', a, 'b = ', b)"
   ]
  },
  {
   "cell_type": "code",
   "execution_count": 3,
   "metadata": {},
   "outputs": [
    {
     "name": "stdout",
     "output_type": "stream",
     "text": [
      "a = 200 b =  100\n"
     ]
    }
   ],
   "source": [
    "a, b = 100, 200\n",
    "temp = a\n",
    "a = b\n",
    "b = temp\n",
    "print('a =', a, 'b = ', b)"
   ]
  },
  {
   "cell_type": "code",
   "execution_count": 5,
   "metadata": {},
   "outputs": [
    {
     "name": "stdout",
     "output_type": "stream",
     "text": [
      "a = 200 b =  100\n"
     ]
    }
   ],
   "source": [
    "a, b = 100, 200\n",
    "a, b = b, a\n",
    "print('a =', a, 'b = ', b)"
   ]
  },
  {
   "cell_type": "code",
   "execution_count": 6,
   "metadata": {},
   "outputs": [
    {
     "name": "stdout",
     "output_type": "stream",
     "text": [
      "city_info = [('서울', 9765), ('부산', 3441), ('광주', 1501)]\n"
     ]
    }
   ],
   "source": [
    "name = ['서울', '부산', '광주']\n",
    "population = ( 9765, 3441, 1501 )\n",
    "\n",
    "city_info = list(zip(name, population))\n",
    "print('city_info =', city_info)"
   ]
  },
  {
   "cell_type": "code",
   "execution_count": 7,
   "metadata": {},
   "outputs": [
    {
     "name": "stdout",
     "output_type": "stream",
     "text": [
      "city_info = [('서울', 9765, 605.2), ('부산', 3441, 770), ('광주', 1501, 501.2)]\n"
     ]
    }
   ],
   "source": [
    "name = ['서울', '부산', '광주']\n",
    "population = ( 9765, 3441, 1501 )\n",
    "area = ( 605.2, 770, 501.2 )\n",
    "\n",
    "city_info = list(zip(name, population, area))\n",
    "print('city_info =', city_info)"
   ]
  },
  {
   "cell_type": "code",
   "execution_count": 12,
   "metadata": {},
   "outputs": [
    {
     "name": "stdout",
     "output_type": "stream",
     "text": [
      "city_info = [('서울', 9765), ('부산', 3441), ('인천', 2954), ('광주', 1501), ('대전', 1531)]\n"
     ]
    }
   ],
   "source": [
    "name = ['서울', '부산', '인천', '광주', '대전']\n",
    "population = ( 9765, 3441, 2954, 1501, 1531 )\n",
    "\n",
    "city_info = list(zip(name, population))\n",
    "print('city_info =', city_info)\n"
   ]
  },
  {
   "cell_type": "code",
   "execution_count": 13,
   "metadata": {},
   "outputs": [
    {
     "name": "stdout",
     "output_type": "stream",
     "text": [
      "city_name = ('서울', '부산', '인천', '광주', '대전')\n",
      "city_pop = (9765, 3441, 2954, 1501, 1531)\n"
     ]
    }
   ],
   "source": [
    "city_name, city_pop = zip(*city_info)\n",
    "print('city_name =', city_name)\n",
    "print('city_pop =', city_pop)"
   ]
  },
  {
   "cell_type": "code",
   "execution_count": 20,
   "metadata": {},
   "outputs": [
    {
     "name": "stdout",
     "output_type": "stream",
     "text": [
      "max_pop = 9765\n",
      "최대 인구 도시: 서울, 인구: 9765천명\n"
     ]
    }
   ],
   "source": [
    "max_pop = max(city_pop)\n",
    "print('max_pop =', max_pop)\n",
    "\n",
    "n = city_pop.index(max_pop)\n",
    "print('최대 인구 도시: {0}, 인구: {1}천명'.format(city_name[0], max_pop))"
   ]
  },
  {
   "cell_type": "code",
   "execution_count": 23,
   "metadata": {},
   "outputs": [
    {
     "name": "stdout",
     "output_type": "stream",
     "text": [
      "min_pop = 1501\n",
      "최소 인구 도시: 광주, 인구: 1501천명\n",
      "리스트 도시 평균 인구: 3838.4천명\n"
     ]
    }
   ],
   "source": [
    "min_pop = min(city_pop)\n",
    "print('min_pop =', min_pop)\n",
    "\n",
    "n = city_pop.index(min_pop)\n",
    "\n",
    "print('최소 인구 도시: {0}, 인구: {1}천명'.format(city_name[n], min_pop))\n",
    "print('리스트 도시 평균 인구: {0}천명'.format(sum(city_pop) / len(city_pop)))"
   ]
  },
  {
   "cell_type": "code",
   "execution_count": 28,
   "metadata": {},
   "outputs": [
    {
     "name": "stdout",
     "output_type": "stream",
     "text": [
      "{'홍길동': '010-1234-5678', '강감찬': '010-1234-5679', '이순신': '010-1234-5680'}\n"
     ]
    }
   ],
   "source": [
    "phone_book = {\"홍길동\" : \"010-1234-5678\"}\n",
    "phone_book[\"강감찬\"] = \"010-1234-5679\"\n",
    "phone_book[\"이순신\"] = \"010-1234-5680\"\n",
    "print(phone_book)"
   ]
  },
  {
   "cell_type": "code",
   "execution_count": null,
   "metadata": {},
   "outputs": [],
   "source": []
  }
 ],
 "metadata": {
  "kernelspec": {
   "display_name": "Python 3",
   "language": "python",
   "name": "python3"
  },
  "language_info": {
   "codemirror_mode": {
    "name": "ipython",
    "version": 3
   },
   "file_extension": ".py",
   "mimetype": "text/x-python",
   "name": "python",
   "nbconvert_exporter": "python",
   "pygments_lexer": "ipython3",
   "version": "3.12.2"
  }
 },
 "nbformat": 4,
 "nbformat_minor": 2
}
